{
 "cells": [
  {
   "cell_type": "code",
   "execution_count": 9,
   "metadata": {},
   "outputs": [],
   "source": [
    "from powerio.keys import PrivateKey\n",
    "from powerio.api_v2 import ClientII as api2\n",
    "\n",
    "alice={}\n",
    "alice_key_str = b'0t\\x02\\x01\\x01\\x04 B\\xc1\\xc3\\xe3\\x87\\x8f\\xbd\\xbcSJIn\\xca\\xb52$J\\x85G\\xb5@\\x1eR\\x1e\\x01w$\\xa5\\xf6ir\\x14\\xa0\\x07\\x06\\x05+\\x81\\x04\\x00\\n\\xa1D\\x03B\\x00\\x04\\xf2\\x14\\xf6\\xd2\\x9dM\\x96\\x9d\\xd5$3\\x19~\\x00\\x1e\\xcc\\x84\\x1d\\xff\\xe8\\xe1\\x89\\xe5-k\\\\\\xdc\\xf2\\xe9\\x8cX\\xc9\\x18G\\xfag\\r\\x80\\x0c\\x96P8\\x97\\x15\\xca\\xd4l\\x1d\\x91\\xe1\\x8f\\xf5\\xcd\\xa2\\x89\\x90\\xac\\x15U Tz\\x1d\\x97'\n",
    "alice['key']=PrivateKey.from_der(alice_key_str)\n",
    "alice['account'] = 'AA100000005033267782'\n",
    "\n",
    "bob={}\n",
    "bob_key_str = b'0t\\x02\\x01\\x01\\x04 _\\x16\\xa2\\x8b[8v\\xcc\\xfc\\x8c-\\xf9\\xfc\\xb5\\x03[\\xbe\\xf2[!R\\xd3\\xcfd\\x16\\xe2\\x85\\xb7\\xd5\\xe4\\xd0\\x90\\xa0\\x07\\x06\\x05+\\x81\\x04\\x00\\n\\xa1D\\x03B\\x00\\x04\\x0c\\xf7\\xea\\x85\\xf1G\\xf7\\xba\\xc4D\\xed\\xa5\\x03\\x1c\\xfd\\xa9\\xc5<\\x9d3\\xe5\\xac\\x00\\xef\\x91\\xd4~\\x00S;L@\\x10\\xff\\x01c\\xf7\\x84\\n\\x9e\\x95\\xa1l\\xbc\\xd3\\r\\xe7\\x19\\xb2i\\xb6l\\xf5\\x19\\xa4\\xdfE8\\x8f\\xf7\\xd7k\\xa7?' \n",
    "bob['key'] = PrivateKey.from_der(bob_key_str)\n",
    "bob['account'] = 'AA100000005033267808'\n",
    "\n",
    "\n",
    "\n",
    "def form_pay_object(amount, type = 'SK'):\n",
    "     return [[0x00, type, amount], [0x01, 'SK', 100]]\n",
    "\n",
    "def SendMessage(sender, recipient, message):\n",
    "    API = api2()\n",
    "    time_transaction = API.get_timestamp()\n",
    "    seq = API.get_time_nonce()    \n",
    "    p = form_pay_object(1)\n",
    "    msg_ = {'msg': 'hello'}\n",
    "    transact = API.transaction(sender['key'], time_transaction, seq,{'msg': message}, sender['account'], recipient['account'], p)\n",
    "    return transact"
   ]
  },
  {
   "cell_type": "code",
   "execution_count": 14,
   "metadata": {},
   "outputs": [
    {
     "name": "stdout",
     "output_type": "stream",
     "text": [
      "Message send\n"
     ]
    }
   ],
   "source": [
    "#   Alice dialog\n",
    "#result=SendMessage(alice,bob,'Hi!!!')\n",
    "#result=SendMessage(alice,bob,'I`m Alice. And ho are you?')\n",
    "result=SendMessage(alice,bob,'What are you doing now?')\n",
    "#result=SendMessage(alice,bob,'I love programming')\n",
    "if result['ok'] is True:\n",
    "    print('Message send')"
   ]
  },
  {
   "cell_type": "code",
   "execution_count": 13,
   "metadata": {},
   "outputs": [
    {
     "name": "stdout",
     "output_type": "stream",
     "text": [
      "Message send\n"
     ]
    }
   ],
   "source": [
    "#   Bob dialog\n",
    "#result=SendMessage(bob,alice,'Hello!')\n",
    "#result=SendMessage(bob,alice,'I`m Bob. Glad to e-meet you!')\n",
    "#result=SendMessage(bob,alice,'Now I am programming!')\n",
    "\n",
    "if result['ok'] is True:\n",
    "    print('Message send')"
   ]
  },
  {
   "cell_type": "code",
   "execution_count": null,
   "metadata": {},
   "outputs": [],
   "source": []
  }
 ],
 "metadata": {
  "kernelspec": {
   "display_name": "Python 3",
   "language": "python",
   "name": "python3"
  },
  "language_info": {
   "codemirror_mode": {
    "name": "ipython",
    "version": 3
   },
   "file_extension": ".py",
   "mimetype": "text/x-python",
   "name": "python",
   "nbconvert_exporter": "python",
   "pygments_lexer": "ipython3",
   "version": "3.7.0"
  }
 },
 "nbformat": 4,
 "nbformat_minor": 2
}
