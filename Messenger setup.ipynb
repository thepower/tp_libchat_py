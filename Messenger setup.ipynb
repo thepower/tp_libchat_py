{
 "cells": [
  {
   "cell_type": "markdown",
   "metadata": {},
   "source": [
    "List of all installed libraries"
   ]
  },
  {
   "cell_type": "code",
   "execution_count": null,
   "metadata": {},
   "outputs": [],
   "source": [
    "!conda list"
   ]
  },
  {
   "cell_type": "markdown",
   "metadata": {},
   "source": [
    "Install ecdsa lib"
   ]
  },
  {
   "cell_type": "code",
   "execution_count": null,
   "metadata": {},
   "outputs": [],
   "source": [
    "import sys\n",
    "!{sys.executable} -m pip install ecdsa"
   ]
  },
  {
   "cell_type": "markdown",
   "metadata": {},
   "source": [
    "List of all installed libraries"
   ]
  },
  {
   "cell_type": "code",
   "execution_count": null,
   "metadata": {},
   "outputs": [],
   "source": [
    "!conda list"
   ]
  },
  {
   "cell_type": "markdown",
   "metadata": {},
   "source": [
    "Register Alice account"
   ]
  },
  {
   "cell_type": "code",
   "execution_count": null,
   "metadata": {},
   "outputs": [],
   "source": [
    "\n",
    "from powerio.keys import PrivateKey\n",
    "from powerio.api_v2 import ClientII\n",
    "\n",
    "\n",
    "alice_key = PrivateKey()\n",
    "\n",
    "API = ClientII()\n",
    "time_reg = API.get_timestamp()\n",
    "print(\"Registration Alice account\")\n",
    "result = API.registration(alice_key, time_reg)\n",
    "print(\"------------------------------------------------------------------------------------\")\n",
    "print(\"Account:\")\n",
    "print(result['res']['address'])\n",
    "print(\"\")\n",
    "\n",
    "\n",
    "print(\"Private Alice key\")\n",
    "private_key_string=alice_key.der\n",
    "print(private_key_string)\n",
    "print(\"------------------------------------------------------------------------------------\")\n",
    "print(\"\")\n"
   ]
  },
  {
   "cell_type": "markdown",
   "metadata": {},
   "source": [
    "Register Bob account"
   ]
  },
  {
   "cell_type": "code",
   "execution_count": null,
   "metadata": {},
   "outputs": [],
   "source": [
    "bob_key = PrivateKey()\n",
    "\n",
    "API = ClientII()\n",
    "time_reg = API.get_timestamp()\n",
    "print(\"Registration Bob account\")\n",
    "result = API.registration(bob_key, time_reg)\n",
    "print(\"------------------------------------------------------------------------------------\")\n",
    "print(\"Account:\")\n",
    "print(result['res']['address'])\n",
    "print(\"\")\n",
    "\n",
    "\n",
    "print(\"Private Bob key\")\n",
    "private_key_string=bob_key.der\n",
    "print(private_key_string)\n",
    "print(\"------------------------------------------------------------------------------------\")\n",
    "print(\"\")\n"
   ]
  }
 ],
 "metadata": {
  "kernelspec": {
   "display_name": "Python 3",
   "language": "python",
   "name": "python3"
  },
  "language_info": {
   "codemirror_mode": {
    "name": "ipython",
    "version": 3
   },
   "file_extension": ".py",
   "mimetype": "text/x-python",
   "name": "python",
   "nbconvert_exporter": "python",
   "pygments_lexer": "ipython3",
   "version": "3.7.0"
  }
 },
 "nbformat": 4,
 "nbformat_minor": 2
}
