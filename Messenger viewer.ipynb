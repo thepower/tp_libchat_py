{
 "cells": [
  {
   "cell_type": "code",
   "execution_count": 3,
   "metadata": {
    "scrolled": true
   },
   "outputs": [],
   "source": [
    "from datetime import datetime\n",
    "import time\n",
    "\n",
    "\n",
    "from powerio.address import PublicAddress\n",
    "from powerio.keys import PrivateKey\n",
    "from powerio.api_v2 import ClientII as api2\n",
    "\n",
    "alice={}\n",
    "alice_key_str = \n",
    "alice['key']=PrivateKey.from_der(alice_key_str)\n",
    "alice['account'] = ''\n",
    "\n",
    "bob={}\n",
    "bob_key_str = \n",
    "bob['key'] = PrivateKey.from_der(bob_key_str)\n",
    "bob['account'] = ''\n",
    "\n",
    "\n",
    "screen_width=100\n",
    "\n",
    "def PrintMessage(message_time, message,alignment_type=0):\n",
    "    time_str=datetime.utcfromtimestamp(message_time/1000).strftime('%Y-%m-%d %H:%M:%S')\n",
    "    if alignment_type==1:\n",
    "        time_str=time_str.rjust(screen_width)\n",
    "        message=message.rjust(screen_width)\n",
    "    print(time_str)\n",
    "    print(message)\n",
    "    print('')\n",
    "    return 0\n",
    "          \n",
    "def PrintAllMessages(message_list,owner_address,recipient_address,first):\n",
    "    if first==1:\n",
    "        print(recipient_address.ljust(int(screen_width/2))+'Me'.rjust(int(screen_width/2)))\n",
    "        print('')\n",
    "    owner_address_bin=PublicAddress.txt2bin(owner_address)\n",
    "    for msg_key in sorted(message_list):\n",
    "        alignment_type=0\n",
    "        if message_list[msg_key]['from']==owner_address_bin:\n",
    "            alignment_type=1\n",
    "        PrintMessage(message_list[msg_key]['time'],message_list[msg_key]['msg'],alignment_type)\n",
    "    return 0    \n",
    "          \n",
    "def NewMessages(recipient, sender):\n",
    "    recipient_address=recipient['account']\n",
    "    sender_address=sender['account']\n",
    "    start_block_hash=recipient['last_block_hash']\n",
    "    API = api2()\n",
    "    last_recipient_block_hash=API.get_prev_block_for_addr(recipient_address)\n",
    "    result={}\n",
    "    result['result']='false'\n",
    "    if start_block_hash!=last_recipient_block_hash:\n",
    "        new_msgs=GetMessages(recipient_address, sender_address,start_block_hash,last_recipient_block_hash)\n",
    "        if len(new_msgs)!=0:\n",
    "            result['msg_list']=new_msgs\n",
    "            result['last_block_hash']=last_recipient_block_hash\n",
    "            result['result']='true'\n",
    "    return result\n",
    "\n",
    "def GetMessageFromBlockByHash(recipient_address, sender_address, block_hash):\n",
    "    API = api2()\n",
    "    block_txs=API.get_tx_from_block(block_hash,recipient_address)  \n",
    "    msg_list={}\n",
    "    sender_bin=PublicAddress.txt2bin(sender_address)\n",
    "    for tx in block_txs:\n",
    "        if 'txext' in block_txs[tx]:\n",
    "            if block_txs[tx]['to']==sender_bin:\n",
    "                temp={}\n",
    "                temp['msg']=''\n",
    "                if 'msg' in block_txs[tx]['txext']:\n",
    "                    temp['msg']=block_txs[tx]['txext']['msg']\n",
    "                temp['time']=block_txs[tx]['t']\n",
    "                temp['from']=block_txs[tx]['from']\n",
    "                temp['to']=block_txs[tx]['to']\n",
    "                msg_list[block_txs[tx]['seq']]=temp\n",
    "                \n",
    "    return msg_list\n",
    "          \n",
    "def GetMessages(recipient_address, sender_address, start_block_hash, end_block_hash):\n",
    "    API = api2()\n",
    "    last_recipient_block=API.get_prev_block_for_addr(recipient_address)\n",
    "    msg_list={}\n",
    "    prev_block_hash=end_block_hash\n",
    "    while prev_block_hash != start_block_hash and prev_block_hash !='':\n",
    "        new_msg=GetMessageFromBlockByHash(recipient_address, sender_address,prev_block_hash)\n",
    "        msg_list.update(new_msg)\n",
    "        prev_block_hash=API.get_prev_block_for_addr(recipient_address,prev_block_hash)\n",
    "    return msg_list          \n",
    "          \n",
    "def SartWatchingChat(owner,recipient):\n",
    "    owner['last_block_hash']=''       \n",
    "    recipient['last_block_hash']=''        \n",
    "    i=0\n",
    "    while i<100:\n",
    "        i += 1\n",
    "        temp_message_list={}\n",
    "        result=NewMessages(owner, recipient)\n",
    "        if result['result']=='true':\n",
    "            temp_message_list.update(result['msg_list'])\n",
    "            owner['last_block_hash']=result['last_block_hash']        \n",
    "        result=NewMessages( recipient, owner)\n",
    "        if result['result']=='true':\n",
    "            temp_message_list.update(result['msg_list'])\n",
    "            recipient['last_block_hash']=result['last_block_hash']   \n",
    "        PrintAllMessages(temp_message_list,owner['account'],recipient['account'],i)    \n",
    "        time.sleep(2)\n",
    "    return 0\n"
   ]
  },
  {
   "cell_type": "code",
   "execution_count": 5,
   "metadata": {
    "scrolled": true
   },
   "outputs": [
    {
     "name": "stdout",
     "output_type": "stream",
     "text": [
      "AA100000005033269272                                                                              Me\n",
      "\n",
      "                                                                                 2019-02-13 13:23:02\n",
      "                                                                                               Hi!!!\n",
      "\n",
      "2019-02-13 13:23:22\n",
      "Hello!\n",
      "\n",
      "                                                                                 2019-02-13 13:33:14\n",
      "                                                                          I`m Alice. And ho are you?\n",
      "\n",
      "2019-02-13 13:33:23\n",
      "I`m Bob. Glad to e-meet you!\n",
      "\n",
      "                                                                                 2019-02-13 13:33:44\n",
      "                                                                             What are you doing now?\n",
      "\n"
     ]
    },
    {
     "data": {
      "text/plain": [
       "0"
      ]
     },
     "execution_count": 5,
     "metadata": {},
     "output_type": "execute_result"
    }
   ],
   "source": [
    "SartWatchingChat(alice,bob)"
   ]
  },
  {
   "cell_type": "code",
   "execution_count": null,
   "metadata": {},
   "outputs": [],
   "source": []
  }
 ],
 "metadata": {
  "kernelspec": {
   "display_name": "Python 3",
   "language": "python",
   "name": "python3"
  },
  "language_info": {
   "codemirror_mode": {
    "name": "ipython",
    "version": 3
   },
   "file_extension": ".py",
   "mimetype": "text/x-python",
   "name": "python",
   "nbconvert_exporter": "python",
   "pygments_lexer": "ipython3",
   "version": "3.7.0"
  }
 },
 "nbformat": 4,
 "nbformat_minor": 2
}
